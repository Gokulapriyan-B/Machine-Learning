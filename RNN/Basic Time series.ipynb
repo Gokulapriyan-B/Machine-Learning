{
 "cells": [
  {
   "cell_type": "code",
   "execution_count": 1,
   "metadata": {
    "pycharm": {
     "name": "#%%\n"
    }
   },
   "outputs": [],
   "source": [
    "import torch\n",
    "import torch.nn as nn\n",
    "import matplotlib.pyplot as plt\n",
    "import numpy as np"
   ]
  },
  {
   "cell_type": "code",
   "execution_count": 2,
   "metadata": {
    "pycharm": {
     "name": "#%%\n"
    }
   },
   "outputs": [
    {
     "name": "stderr",
     "output_type": "stream",
     "text": [
      "<ipython-input-2-c74ebcd50faa>:16: MatplotlibDeprecationWarning: Adding an axes using the same arguments as a previous axes currently reuses the earlier instance.  In a future version, a new instance will always be created and returned.  Meanwhile, this warning can be suppressed, and the future behavior ensured, by passing a unique label to each axes instance.\n",
      "  ax = plt.subplot(1,1,1)\n"
     ]
    },
    {
     "data": {
      "image/png": "[encoded data removed]",
      "text/plain": [
       "<Figure size 432x288 with 1 Axes>"
      ]
     },
     "metadata": {
      "needs_background": "dark"
     },
     "output_type": "display_data"
    }
   ],
   "source": [
    "# how many time steps/data pts are in one batch of data\n",
    "seq_length = 20\n",
    "\n",
    "# generate evenly spaced data pts\n",
    "time_steps = np.linspace(0, np.pi, seq_length + 1) #shape = 21\n",
    "data = np.sin(time_steps)\n",
    "data.resize((seq_length + 1, 1)) # size becomes (seq_length+1, 1), adds an input_size dimension\n",
    "\n",
    "x = data[:-1] # all but the last piece of data\n",
    "y = data[1:] # all but the first\n",
    "\n",
    "# display the data\n",
    "plt.plot(time_steps[1:], x, 'r.', label='input, x') # x\n",
    "plt.plot(time_steps[1:], y, 'b.', label='target, y') # y\n",
    "# axes color\n",
    "ax = plt.subplot(1,1,1)\n",
    "ax.tick_params(axis = 'x', colors = '#efefef')\n",
    "ax.tick_params(axis = 'y', colors = '#efefef')\n",
    "\n",
    "plt.legend(loc='best')\n",
    "plt.show()"
   ]
  },
  {
   "cell_type": "code",
   "execution_count": 3,
   "metadata": {
    "pycharm": {
     "name": "#%%\n"
    }
   },
   "outputs": [],
   "source": [
    "class RNN(nn.Module):\n",
    "  def __init__(self, input_size, output_size, hidden_size, num_layers):\n",
    "    super().__init__()\n",
    "    self.hidden_size = hidden_size # to be used in forward function\n",
    "\n",
    "    # define an RNN with specified parameters\n",
    "    # batch_first means that the first dim of the input and output will be the batch_size\n",
    "    self.rnn = nn.RNN(input_size, hidden_size, num_layers, batch_first=True)\n",
    "    # fully-connected layer\n",
    "    self.fc = nn.Linear(hidden_size, output_size)\n",
    "\n",
    "  def forward(self, x, hidden):\n",
    "\n",
    "    # x (batch_size, seq_length, input_size ie.,num of input features)\n",
    "    # hidden (n_layers, batch_size, hidden_dim)\n",
    "    # r_out (batch_size, time_step, hidden_size)\n",
    "    batch_size = x.size(0)\n",
    "\n",
    "    # get RNN outputs\n",
    "    r_out, hidden = self.rnn(x, hidden)\n",
    "    # shape output to be (batch_size*seq_length, hidden_dim)\n",
    "    r_out = r_out.view(-1, self.hidden_size)\n",
    "\n",
    "    # get final output\n",
    "    output = self.fc(r_out)\n",
    "\n",
    "    return output, hidden"
   ]
  },
  {
   "cell_type": "code",
   "execution_count": 4,
   "metadata": {
    "pycharm": {
     "name": "#%%\n"
    }
   },
   "outputs": [
    {
     "name": "stdout",
     "output_type": "stream",
     "text": [
      "Input size:  torch.Size([1, 20, 1])\n",
      "Output size:  torch.Size([20, 1])\n",
      "Hidden state size:  torch.Size([2, 1, 10])\n"
     ]
    }
   ],
   "source": [
    "# test that dimensions are as expected\n",
    "test_rnn = RNN(input_size=1, output_size=1, hidden_size=10, num_layers=2)\n",
    "\n",
    "# generate evenly spaced, test data pts\n",
    "time_steps = np.linspace(0, np.pi, seq_length)\n",
    "data = np.sin(time_steps)\n",
    "data.resize((seq_length, 1))\n",
    "\n",
    "test_input = torch.Tensor(data).unsqueeze(0)    # give it a batch_size of 1 as first dimension\n",
    "print('Input size: ', test_input.size())        # input_size - [batch_size, seq_length, input_size]\n",
    "\n",
    "# test out rnn sizes\n",
    "test_out, test_h = test_rnn(test_input, None)\n",
    "print('Output size: ', test_out.size())         # input_size - [batch_size, seq_length, input_size]\n",
    "print('Hidden state size: ', test_h.size())     # input_size - [batch_size, seq_length, input_size]"
   ]
  },
  {
   "cell_type": "code",
   "execution_count": 5,
   "metadata": {
    "pycharm": {
     "name": "#%%\n"
    }
   },
   "outputs": [
    {
     "name": "stdout",
     "output_type": "stream",
     "text": [
      "RNN(\n",
      "  (rnn): RNN(1, 32, num_layers=2, batch_first=True)\n",
      "  (fc): Linear(in_features=32, out_features=1, bias=True)\n",
      ")\n"
     ]
    }
   ],
   "source": [
    "# hyperparameters\n",
    "input_size = 1\n",
    "hidden_size = 32\n",
    "output_size = 1\n",
    "num_layers = 2\n",
    "\n",
    "rnn = RNN(input_size, output_size, hidden_size, num_layers)\n",
    "print(rnn)"
   ]
  },
  {
   "cell_type": "code",
   "execution_count": 6,
   "metadata": {
    "pycharm": {
     "name": "#%%\n"
    }
   },
   "outputs": [],
   "source": [
    "# loss and optimizer\n",
    "criterion = nn.MSELoss()\n",
    "optimizer = torch.optim.Adam(rnn.parameters(), lr = 0.01)"
   ]
  },
  {
   "cell_type": "code",
   "execution_count": 7,
   "metadata": {
    "pycharm": {
     "name": "#%%\n"
    }
   },
   "outputs": [
    {
     "name": "stdout",
     "output_type": "stream",
     "text": [
      "[0.00000000e+00 1.56434465e-01 3.09016994e-01 4.53990500e-01\n",
      " 5.87785252e-01 7.07106781e-01 8.09016994e-01 8.91006524e-01\n",
      " 9.51056516e-01 9.87688341e-01 1.00000000e+00 9.87688341e-01\n",
      " 9.51056516e-01 8.91006524e-01 8.09016994e-01 7.07106781e-01\n",
      " 5.87785252e-01 4.53990500e-01 3.09016994e-01 1.56434465e-01\n",
      " 1.22464680e-16] (21,)\n",
      "[[0.00000000e+00]\n",
      " [1.56434465e-01]\n",
      " [3.09016994e-01]\n",
      " [4.53990500e-01]\n",
      " [5.87785252e-01]\n",
      " [7.07106781e-01]\n",
      " [8.09016994e-01]\n",
      " [8.91006524e-01]\n",
      " [9.51056516e-01]\n",
      " [9.87688341e-01]\n",
      " [1.00000000e+00]\n",
      " [9.87688341e-01]\n",
      " [9.51056516e-01]\n",
      " [8.91006524e-01]\n",
      " [8.09016994e-01]\n",
      " [7.07106781e-01]\n",
      " [5.87785252e-01]\n",
      " [4.53990500e-01]\n",
      " [3.09016994e-01]\n",
      " [1.56434465e-01]\n",
      " [1.22464680e-16]] (21, 1)\n"
     ]
    }
   ],
   "source": [
    "time_steps = np.linspace(0, np.pi, seq_length + 1) #shape = 21\n",
    "data = np.sin(time_steps)\n",
    "print(data, data.shape)\n",
    "data.resize((seq_length+1 , 1))\n",
    "print(data, data.shape)"
   ]
  },
  {
   "cell_type": "code",
   "execution_count": 8,
   "metadata": {
    "pycharm": {
     "name": "#%%\n"
    }
   },
   "outputs": [],
   "source": [
    "# Training\n",
    "def train(rnn, n_steps, print_steps):\n",
    "  #initialize hidden state\n",
    "  hidden = None\n",
    "\n",
    "  for batch_i, step in enumerate(range(n_steps)):\n",
    "    #defining training data\n",
    "    time_steps = np.linspace(step*np.pi, (step + 1)*np.pi, seq_length + 1)\n",
    "    data = np.sin(time_steps)\n",
    "    data.resize((seq_length + 1, 1))        # from shape(21,) to (21,1)\n",
    "\n",
    "    x = data[:-1] # except last\n",
    "    y = data[1:]  # except first\n",
    "\n",
    "    # convert data to tensors\n",
    "    x_tensor = torch.Tensor(x).unsqueeze(0) # changes x from (20, 1) to (1->batch_size, 20, 1)\n",
    "    y_tensor = torch.Tensor(y)\n",
    "\n",
    "    # outputs from the rnn\n",
    "    prediction, hidden = rnn(x_tensor, hidden)\n",
    "\n",
    "    ## Representing Memory ##\n",
    "    # make a new variable for hidden and detach the hidden state from its history\n",
    "    # this way, we don't backpropagate through the entire history\n",
    "    hidden = hidden.data\n",
    "\n",
    "    # calculate the loss\n",
    "    loss = criterion(prediction, y_tensor)\n",
    "    # zero gradients\n",
    "    optimizer.zero_grad()\n",
    "    # perform backprop and update weights\n",
    "    loss.backward()\n",
    "    optimizer.step()\n",
    "\n",
    "    # display loss and predictions\n",
    "    if batch_i%print_steps == 0:\n",
    "      print('Loss: ', loss)\n",
    "      plt.plot(time_steps[1:], x, 'r.') # input\n",
    "      plt.plot(time_steps[1:], prediction.data.numpy().flatten(), 'b.') # predictions\n",
    "      plt.show()\n",
    "\n",
    "  return rnn"
   ]
  },
  {
   "cell_type": "code",
   "execution_count": 9,
   "metadata": {
    "pycharm": {
     "name": "#%%\n"
    }
   },
   "outputs": [
    {
     "name": "stdout",
     "output_type": "stream",
     "text": [
      "Loss:  tensor(0.6080, grad_fn=<MseLossBackward>)\n",
      "Loss:  tensor(0.0090, grad_fn=<MseLossBackward>)\n",
      "Loss:  tensor(0.0013, grad_fn=<MseLossBackward>)\n",
      "Loss:  tensor(0.0016, grad_fn=<MseLossBackward>)\n",
      "Loss:  tensor(0.0008, grad_fn=<MseLossBackward>)\n",
      "Loss:  tensor(0.0007, grad_fn=<MseLossBackward>)\n",
      "Loss:  tensor(0.0003, grad_fn=<MseLossBackward>)\n",
      "Loss:  tensor(0.0004, grad_fn=<MseLossBackward>)\n",
      "Loss:  tensor(0.0002, grad_fn=<MseLossBackward>)\n",
      "Loss:  tensor(0.0003, grad_fn=<MseLossBackward>)\n"
     ]
    },
    {
     "data": {
      "image/png": "[encoded data removed]",
      "text/plain": [
       "<Figure size 432x288 with 1 Axes>"
      ]
     },
     "metadata": {
      "needs_background": "light"
     },
     "output_type": "display_data"
    },
    {
     "data": {
      "image/png": "[encoded data removed]",
      "text/plain": [
       "<Figure size 432x288 with 1 Axes>"
      ]
     },
     "metadata": {
      "needs_background": "light"
     },
     "output_type": "display_data"
    },
    {
     "data": {
      "image/png": "[encoded data removed]",
      "text/plain": [
       "<Figure size 432x288 with 1 Axes>"
      ]
     },
     "metadata": {
      "needs_background": "light"
     },
     "output_type": "display_data"
    },
    {
     "data": {
      "image/png": "[encoded data removed]",
      "text/plain": [
       "<Figure size 432x288 with 1 Axes>"
      ]
     },
     "metadata": {
      "needs_background": "light"
     },
     "output_type": "display_data"
    },
    {
     "data": {
      "image/png": "[encoded data removed]",
      "text/plain": [
       "<Figure size 432x288 with 1 Axes>"
      ]
     },
     "metadata": {
      "needs_background": "light"
     },
     "output_type": "display_data"
    },
    {
     "data": {
      "image/png": "[encoded data removed]",
      "text/plain": [
       "<Figure size 432x288 with 1 Axes>"
      ]
     },
     "metadata": {
      "needs_background": "light"
     },
     "output_type": "display_data"
    },
    {
     "data": {
      "image/png": "[encoded data removed]",
      "text/plain": [
       "<Figure size 432x288 with 1 Axes>"
      ]
     },
     "metadata": {
      "needs_background": "light"
     },
     "output_type": "display_data"
    },
    {
     "data": {
      "image/png": "[encoded data removed]",
      "text/plain": [
       "<Figure size 432x288 with 1 Axes>"
      ]
     },
     "metadata": {
      "needs_background": "light"
     },
     "output_type": "display_data"
    },
    {
     "data": {
      "image/png": "[encoded data removed]",
      "text/plain": [
       "<Figure size 432x288 with 1 Axes>"
      ]
     },
     "metadata": {
      "needs_background": "light"
     },
     "output_type": "display_data"
    },
    {
     "data": {
      "image/png": "[encoded data removed]",
      "text/plain": [
       "<Figure size 432x288 with 1 Axes>"
      ]
     },
     "metadata": {
      "needs_background": "light"
     },
     "output_type": "display_data"
    }
   ],
   "source": [
    "# train the rnn and monitor results\n",
    "n_steps = 150\n",
    "print_steps = 15\n",
    "\n",
    "trained_rnn = train(rnn, n_steps, print_steps)"
   ]
  }
 ],
 "metadata": {
  "kernelspec": {
   "display_name": "Python 3",
   "language": "python",
   "name": "python3"
  },
  "language_info": {
   "codemirror_mode": {
    "name": "ipython",
    "version": 3
   },
   "file_extension": ".py",
   "mimetype": "text/x-python",
   "name": "python",
   "nbconvert_exporter": "python",
   "pygments_lexer": "ipython3",
   "version": "3.8.6"
  }
 },
 "nbformat": 4,
 "nbformat_minor": 1
}
