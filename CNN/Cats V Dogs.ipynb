{
 "cells": [
  {
   "cell_type": "code",
   "execution_count": 4,
   "metadata": {},
   "outputs": [],
   "source": [
    "# Import, preparation/processing and dataset - cats v dogs\n",
    "# Data loader, transformation\n",
    "# NN, activation -> class, __init__\n",
    "# Loss and optimizer\n",
    "# Training loop\n",
    "# Model evaluate\n",
    "\n",
    "# Processing and dataset - cats v dogs\n",
    "import os\n",
    "import cv2\n",
    "import numpy as np\n",
    "from tqdm import tqdm # for observing the progress"
   ]
  },
  {
   "cell_type": "code",
   "execution_count": 5,
   "metadata": {},
   "outputs": [],
   "source": [
    "rebuild_data = True\n",
    "\n",
    "class catsvdogs():\n",
    "    size = 50\n",
    "    cats = r\"C:\\Users\\Gokul\\Downloads\\PetImages\\Cat\"\n",
    "    dogs = r\"C:\\Users\\Gokul\\Downloads\\PetImages\\Dog\"\n",
    "    process_imgs = r\"C:\\Users\\Gokul\\Downloads\\PetImages\\Data\"\n",
    "    classes = {cats: 0, dogs: 1}\n",
    "    data = []\n",
    "    catcount = 0\n",
    "    dogcount = 0\n",
    "\n",
    "    def make_data(self):\n",
    "        for label in self.classes:                       # iterate over directories\n",
    "            for f in tqdm(os.listdir(label)):           # iterate through imgs in directory\n",
    "                if \"jpg\" in f:\n",
    "                    try:\n",
    "                        path = os.path.join(label, f)   # join label and image\n",
    "                        img = cv2.imread(path, 0)\n",
    "                        img = cv2.resize(img, (self.size, self.size))\n",
    "                        self.data.append([np.array(img), np.eye(2)[self.classes[label]]]) # eye for one-hot encode\n",
    "\n",
    "                        if label == self.cats:\n",
    "                            self.catcount += 1\n",
    "                        elif label == self.dogs:\n",
    "                            self.dogcount += 1\n",
    "                    \n",
    "                    except Exception as e:\n",
    "                        pass\n",
    "                    \n",
    "        np.random.shuffle(self.data)\n",
    "        np.save(\"Rebulit_data.npy\", self.data)\n",
    "        print(\"Cats_count: \", catsVdogs.catcount)\n",
    "        print(\"Dogs_count: \", catsVdogs.dogcount)\n"
   ]
  },
  {
   "cell_type": "code",
   "execution_count": 6,
   "metadata": {},
   "outputs": [
    {
     "name": "stderr",
     "output_type": "stream",
     "text": [
      "100%|███████████████████████████████████████████████████████████████████████████| 12501/12501 [00:24<00:00, 520.39it/s]\n",
      "100%|███████████████████████████████████████████████████████████████████████████| 12501/12501 [00:34<00:00, 359.82it/s]\n"
     ]
    },
    {
     "name": "stdout",
     "output_type": "stream",
     "text": [
      "Cats_count:  12476\n",
      "Dogs_count:  12470\n",
      "24946\n"
     ]
    }
   ],
   "source": [
    "if rebuild_data:\n",
    "    catsVdogs = catsvdogs()\n",
    "    catsVdogs.make_data()\n",
    "\n",
    "data_processed = np.load(\"Rebulit_data.npy\", allow_pickle = True) \n",
    "print(len(data_processed))"
   ]
  },
  {
   "cell_type": "code",
   "execution_count": 7,
   "metadata": {},
   "outputs": [],
   "source": [
    "import torch \n",
    "import torch.nn as nn\n",
    "import torch.nn.functional as func\n",
    "import torchvision\n",
    "import torchvision.transforms as transforms\n",
    "\n",
    "# Device configuration\n",
    "#device = torch.device('cuda' if torch.cuda.is_available() else 'cpu')\n",
    "\n",
    "input_size = 50\n",
    "batch_size = 128\n",
    "no_classes = 2\n",
    "no_epochs = 1\n",
    "learning_rate = 0.001"
   ]
  },
  {
   "cell_type": "code",
   "execution_count": 8,
   "metadata": {},
   "outputs": [],
   "source": [
    "# Data \n",
    "x_input_image = torch.Tensor([i[0] for i in data_processed]).view(-1, input_size, input_size)\n",
    "x_input_image = x_input_image/255.0     # scaling the pixel values\n",
    "y_output_label = torch.Tensor([i[1] for i in data_processed])"
   ]
  },
  {
   "cell_type": "code",
   "execution_count": 9,
   "metadata": {},
   "outputs": [
    {
     "name": "stdout",
     "output_type": "stream",
     "text": [
      "22452 2494\n"
     ]
    }
   ],
   "source": [
    "# Data split/loader\n",
    "\n",
    "split_percent = 0.1\n",
    "split_size = int(len(data_processed)*split_percent)\n",
    "train_x = x_input_image[:-split_size]\n",
    "train_y = y_output_label[:-split_size]\n",
    "\n",
    "test_x = x_input_image[-split_size:]\n",
    "test_y = y_output_label[-split_size:]\n",
    "\n",
    "print(len(train_x), len(test_x))"
   ]
  },
  {
   "cell_type": "code",
   "execution_count": 10,
   "metadata": {},
   "outputs": [
    {
     "name": "stdout",
     "output_type": "stream",
     "text": [
      "ConvNet(\n",
      "  (conv1): Conv2d(1, 32, kernel_size=(5, 5), stride=(1, 1))\n",
      "  (conv2): Conv2d(32, 64, kernel_size=(5, 5), stride=(1, 1))\n",
      "  (conv3): Conv2d(64, 128, kernel_size=(5, 5), stride=(1, 1))\n",
      "  (pool): MaxPool2d(kernel_size=2, stride=2, padding=0, dilation=1, ceil_mode=False)\n",
      "  (fc1): Linear(in_features=512, out_features=512, bias=True)\n",
      "  (fc2): Linear(in_features=512, out_features=2, bias=True)\n",
      ")\n"
     ]
    }
   ],
   "source": [
    "# NN\n",
    "class ConvNet(nn.Module):\n",
    "    def __init__(self):\n",
    "        super().__init__()\n",
    "        self.conv1 = nn.Conv2d(1, 32, 5)       # 1x50x50  -> 32x46x46(conv1) -> 32x23x23(pool)\n",
    "        self.conv2 = nn.Conv2d(32, 64, 5)      # 32x23x23 -> 64x19x19(conv2) -> 64x9x9  (pool)\n",
    "        self.conv3 = nn.Conv2d(64, 128, 5)     # 64x9x9   -> 128x5x5 (conv3) -> 128x2x2 (pool)\n",
    "        self.pool = nn.MaxPool2d(2, 2)     \n",
    "        self.fc1 = nn.Linear(128*2*2, 512)\n",
    "        self.fc2 = nn.Linear(512, no_classes)\n",
    "\n",
    "    def forward(self, x):\n",
    "        x = self.pool(func.relu(self.conv1(x)))   \n",
    "        x = self.pool(func.relu(self.conv2(x)))  \n",
    "        x = self.pool(func.relu(self.conv3(x)))\n",
    "        x = x.view(-1, 128*2*2)\n",
    "        x = func.relu(self.fc1(x))\n",
    "        x = self.fc2(x)\n",
    "        return func.softmax(x, dim = 1)\n",
    "\n",
    "model = ConvNet()\n",
    "print(model)\n",
    "\n",
    "# Loss function and optimizer\n",
    "loss_func = nn.BCELoss()\n",
    "optimizer = torch.optim.Adam(model.parameters(), lr = learning_rate)"
   ]
  },
  {
   "cell_type": "code",
   "execution_count": 11,
   "metadata": {},
   "outputs": [
    {
     "name": "stderr",
     "output_type": "stream",
     "text": [
      "100%|████████████████████████████████████████████████████████████████████████████████| 176/176 [00:52<00:00,  3.37it/s]\n"
     ]
    }
   ],
   "source": [
    "# Training loop\n",
    "for epoch in range(no_epochs):\n",
    "    for data in tqdm(range(0, len(train_x), batch_size)):\n",
    "        # Resizing\n",
    "        x = train_x[data: data + batch_size].view(-1, 1, input_size, input_size)\n",
    "        y = train_y[data: data + batch_size]\n",
    "\n",
    "        # Forward\n",
    "        output = model(x)\n",
    "        loss = loss_func(output, y)\n",
    "\n",
    "        # Backward\n",
    "        optimizer.zero_grad()\n",
    "        loss.backward()\n",
    "        optimizer.step()\n"
   ]
  },
  {
   "cell_type": "code",
   "execution_count": 12,
   "metadata": {},
   "outputs": [
    {
     "name": "stderr",
     "output_type": "stream",
     "text": [
      "100%|█████████████████████████████████████████████████████████████████████████████| 2494/2494 [00:05<00:00, 487.95it/s]"
     ]
    },
    {
     "name": "stdout",
     "output_type": "stream",
     "text": [
      "Accuracy:  0.648\n"
     ]
    },
    {
     "name": "stderr",
     "output_type": "stream",
     "text": [
      "\n"
     ]
    }
   ],
   "source": [
    "# Test/Model evaluate\n",
    "with torch.no_grad():\n",
    "    correct = 0\n",
    "    total = 0\n",
    "    for i in tqdm(range(len(test_x))):\n",
    "        real_class = torch.argmax(test_y[i])\n",
    "        net_out = model(test_x[i].view(-1, 1, input_size, input_size))[0]  # returns a list, \n",
    "        predicted_class = torch.argmax(net_out)\n",
    "\n",
    "        if predicted_class == real_class:\n",
    "            correct += 1\n",
    "        total += 1\n",
    "print(\"Accuracy: \", round(correct/total, 3))"
   ]
  }
 ],
 "metadata": {
  "kernelspec": {
   "display_name": "Python 3",
   "language": "python",
   "name": "python3"
  },
  "language_info": {
   "codemirror_mode": {
    "name": "ipython",
    "version": 3
   },
   "file_extension": ".py",
   "mimetype": "text/x-python",
   "name": "python",
   "nbconvert_exporter": "python",
   "pygments_lexer": "ipython3",
   "version": "3.8.6"
  }
 },
 "nbformat": 4,
 "nbformat_minor": 4
}
