{
 "cells": [
  {
   "cell_type": "code",
   "execution_count": 1,
   "metadata": {},
   "outputs": [],
   "source": [
    "# Import, preparation/processing and dataset - Diabetic Retinopathy 224x224 Gaussian Filtered\n",
    "# Data loader, transformation\n",
    "# NN, activation -> class, __init__\n",
    "# Loss and optimizer\n",
    "# Training loop\n",
    "# Model evaluate\n",
    "\n",
    "import os\n",
    "import cv2\n",
    "import numpy as np\n",
    "from tqdm import tqdm"
   ]
  },
  {
   "cell_type": "code",
   "execution_count": 2,
   "metadata": {},
   "outputs": [],
   "source": [
    "# Preprocessing\n",
    "rebuild_data = False\n",
    "\n",
    "class DR():\n",
    "    No_DR = r\"C:\\Users\\Gokul\\Downloads\\archive\\gaussian_filtered_images\\No_DR\"\n",
    "    Mild = r\"C:\\Users\\Gokul\\Downloads\\archive\\gaussian_filtered_images\\Mild\"\n",
    "    Moderate = r\"C:\\Users\\Gokul\\Downloads\\archive\\gaussian_filtered_images\\Moderate\"\n",
    "    Severe = r\"C:\\Users\\Gokul\\Downloads\\archive\\gaussian_filtered_images\\Severe\"\n",
    "    Proliferate_DR = r\"C:\\Users\\Gokul\\Downloads\\archive\\gaussian_filtered_images\\Proliferate_DR\"\n",
    "    classes = {No_DR:0, Mild:1, Moderate:2, Severe:3, Proliferate_DR:4}\n",
    "    data = []\n",
    "    count_0 = 0\n",
    "    count_1 = 0\n",
    "    count_2 = 0\n",
    "    count_3 = 0\n",
    "    count_4 = 0\n",
    "\n",
    "    def make_data(self):\n",
    "        for label in self.classes:\n",
    "            for f in tqdm(os.listdir(label)):\n",
    "                if \"png\" in f:\n",
    "                    try:\n",
    "                        path = os.path.join(label, f)   # join label and image\n",
    "                        img = cv2.imread(path, 0)\n",
    "                        self.data.append([np.array(img), [self.classes[label]]])\n",
    "\n",
    "                        if label == self.No_DR:\n",
    "                            self.count_0 += 1\n",
    "                        elif label == self.Mild:\n",
    "                            self.count_1 += 1\n",
    "                        elif label == self.Moderate:\n",
    "                            self.count_2 += 1\n",
    "                        elif label == self.Severe:\n",
    "                            self.count_3 += 1\n",
    "                        elif label == self.Proliferate_DR:\n",
    "                            self.count_4 += 1\n",
    "                            \n",
    "                    \n",
    "                    except Exception as e:\n",
    "                        pass\n",
    "\n",
    "        np.random.shuffle(self.data)\n",
    "        np.save(\"DR_data.npy\", self.data)\n",
    "        print(\"No_DR_count: \", DiabeticR.count_0)\n",
    "        print(\"Mild_count: \", DiabeticR.count_1)\n",
    "        print(\"Moderate_count: \", DiabeticR.count_2)\n",
    "        print(\"Severe_count: \", DiabeticR.count_3)\n",
    "        print(\"Proliferate_DR_count: \", DiabeticR.count_4)"
   ]
  },
  {
   "cell_type": "code",
   "execution_count": 3,
   "metadata": {},
   "outputs": [
    {
     "name": "stdout",
     "output_type": "stream",
     "text": [
      "3662\n"
     ]
    }
   ],
   "source": [
    "if rebuild_data:\n",
    "    DiabeticR = DR()\n",
    "    DiabeticR.make_data()\n",
    "\n",
    "\n",
    "data_processed = np.load(\"DR_data.npy\", allow_pickle = True) \n",
    "print(len(data_processed))"
   ]
  },
  {
   "cell_type": "code",
   "execution_count": 4,
   "metadata": {},
   "outputs": [],
   "source": [
    "import torch \n",
    "import torchvision\n",
    "import torch.nn as nn\n",
    "import torch.nn.functional as func\n",
    "import torchvision.transforms as transforms\n",
    "\n",
    "# Parameters\n",
    "input_size = data_processed[0][0].shape[0]\n",
    "batch_size = 128\n",
    "no_classes = 5\n",
    "no_epochs = 5\n",
    "learning_rate = 0.001"
   ]
  },
  {
   "cell_type": "code",
   "execution_count": 5,
   "metadata": {},
   "outputs": [],
   "source": [
    "# Data\n",
    "images = torch.Tensor([i[0] for i in data_processed]).view(-1, input_size, input_size) #Images\n",
    "images = images/255.0\n",
    "labels = torch.Tensor([i[1] for i in data_processed])                                  #Labels\n"
   ]
  },
  {
   "cell_type": "code",
   "execution_count": 6,
   "metadata": {},
   "outputs": [],
   "source": [
    "# Data split\n",
    "split_percent = 0.1\n",
    "split_size = int(len(data_processed)*split_percent)\n",
    "train_x = images[:-split_size]\n",
    "train_y = labels[:-split_size]\n",
    "test_x = images[-split_size:]\n",
    "test_y = labels[-split_size:]"
   ]
  },
  {
   "cell_type": "code",
   "execution_count": 7,
   "metadata": {},
   "outputs": [
    {
     "name": "stdout",
     "output_type": "stream",
     "text": [
      "DRmodel(\n",
      "  (conv1): Conv2d(1, 32, kernel_size=(5, 5), stride=(1, 1))\n",
      "  (norm1): BatchNorm2d(32, eps=1e-05, momentum=0.1, affine=True, track_running_stats=True)\n",
      "  (conv2): Conv2d(32, 64, kernel_size=(5, 5), stride=(1, 1))\n",
      "  (norm2): BatchNorm2d(64, eps=1e-05, momentum=0.1, affine=True, track_running_stats=True)\n",
      "  (conv3): Conv2d(64, 128, kernel_size=(5, 5), stride=(1, 1))\n",
      "  (norm3): BatchNorm2d(128, eps=1e-05, momentum=0.1, affine=True, track_running_stats=True)\n",
      "  (conv4): Conv2d(128, 256, kernel_size=(5, 5), stride=(1, 1))\n",
      "  (norm4): BatchNorm2d(256, eps=1e-05, momentum=0.1, affine=True, track_running_stats=True)\n",
      "  (conv5): Conv2d(256, 512, kernel_size=(5, 5), stride=(1, 1))\n",
      "  (norm5): BatchNorm2d(512, eps=1e-05, momentum=0.1, affine=True, track_running_stats=True)\n",
      "  (pool): MaxPool2d(kernel_size=2, stride=2, padding=0, dilation=1, ceil_mode=False)\n",
      "  (fc1): Linear(in_features=4608, out_features=1024, bias=True)\n",
      "  (fc2): Linear(in_features=1024, out_features=400, bias=True)\n",
      "  (fc3): Linear(in_features=400, out_features=120, bias=True)\n",
      "  (fc4): Linear(in_features=120, out_features=84, bias=True)\n",
      "  (fc5): Linear(in_features=84, out_features=5, bias=True)\n",
      ")\n"
     ]
    }
   ],
   "source": [
    "# NN\n",
    "class DRmodel(nn.Module):\n",
    "    def __init__(self):\n",
    "        super().__init__()\n",
    "        self.conv1 = nn.Conv2d(1,32,5)      # 1x224x224  -> 32x220x220(conv1) -> 32x110x110(pool)\n",
    "        self.norm1 = nn.BatchNorm2d(32)\n",
    "        self.conv2 = nn.Conv2d(32,64,5)     # 32x110x110 -> 64x106x106(conv2) -> 64x53x53  (pool)\n",
    "        self.norm2 = nn.BatchNorm2d(64)\n",
    "        self.conv3 = nn.Conv2d(64,128,5)    # 64x53x53   -> 128x49x49 (conv3) -> 128x24x24 (pool)\n",
    "        self.norm3 = nn.BatchNorm2d(128)\n",
    "        self.conv4 = nn.Conv2d(128,256,5)   # 128x24x24  -> 256x20x20 (conv4) -> 256x10x10 (pool)\n",
    "        self.norm4 = nn.BatchNorm2d(256)\n",
    "        self.conv5 = nn.Conv2d(256,512,5)   # 256x10x10  -> 512x6x6   (conv5) -> 512x3x3   (pool)\n",
    "        self.norm5 = nn.BatchNorm2d(512)\n",
    "        self.pool = nn.MaxPool2d(2,2)\n",
    "        \n",
    "        self.fc1 = nn.Linear(512*3*3, 1024)\n",
    "        self.fc2 = nn.Linear(1024, 400)\n",
    "        self.fc3 = nn.Linear(400, 120)\n",
    "        self.fc4 = nn.Linear(120, 84) \n",
    "        self.fc5 = nn.Linear(84,no_classes)\n",
    "\n",
    "    def forward(self,x):\n",
    "        x = self.pool(func.relu(self.conv1(x)))\n",
    "        x = self.norm1(x)\n",
    "        x = self.pool(func.relu(self.conv2(x)))\n",
    "        x = self.norm2(x)\n",
    "        x = self.pool(func.relu(self.conv3(x)))\n",
    "        x = self.norm3(x)\n",
    "        x = self.pool(func.relu(self.conv4(x)))\n",
    "        x = self.norm4(x)\n",
    "        x = self.pool(func.relu(self.conv5(x))) \n",
    "        x = self.norm5(x)\n",
    "        x = x.view(-1, 512*3*3)\n",
    "        x = func.relu(self.fc1(x))\n",
    "        x = func.relu(self.fc2(x))\n",
    "        x = func.relu(self.fc3(x))\n",
    "        x = func.relu(self.fc4(x)) \n",
    "        x = self.fc5(x)\n",
    "        return x\n",
    "\n",
    "model = DRmodel()\n",
    "print(model)\n",
    "\n",
    "# Loss function and optimizer\n",
    "loss_func = nn.CrossEntropyLoss()\n",
    "optimizer = torch.optim.Adam(model.parameters(), lr = learning_rate)"
   ]
  },
  {
   "cell_type": "code",
   "execution_count": 8,
   "metadata": {},
   "outputs": [
    {
     "name": "stderr",
     "output_type": "stream",
     "text": [
      "100%|██████████| 26/26 [07:16<00:00, 16.78s/it]\n",
      "100%|██████████| 26/26 [07:29<00:00, 17.30s/it]\n",
      "100%|██████████| 26/26 [06:55<00:00, 15.97s/it]\n",
      "100%|██████████| 26/26 [06:24<00:00, 14.81s/it]\n",
      "100%|██████████| 26/26 [06:04<00:00, 14.00s/it]\n"
     ]
    }
   ],
   "source": [
    "# Training loop\n",
    "for epoch in range(no_epochs):\n",
    "    for data in tqdm(range(0, len(train_x), batch_size)):\n",
    "        train_img = train_x[data: data + batch_size].view(-1, 1, input_size, input_size)\n",
    "        train_label = train_y[data: data + batch_size]\n",
    "\n",
    "        # forward and loss\n",
    "        output = model(train_img)\n",
    "        loss = loss_func(output, train_label.squeeze().type(torch.LongTensor))\n",
    "\n",
    "        # backprop and updation\n",
    "        optimizer.zero_grad()\n",
    "        loss.backward()\n",
    "        optimizer.step() "
   ]
  },
  {
   "cell_type": "code",
   "execution_count": 9,
   "metadata": {},
   "outputs": [
    {
     "name": "stderr",
     "output_type": "stream",
     "text": [
      "100%|██████████| 366/366 [00:31<00:00, 11.68it/s]"
     ]
    },
    {
     "name": "stdout",
     "output_type": "stream",
     "text": [
      "Accuracy:  0.883\n"
     ]
    },
    {
     "name": "stderr",
     "output_type": "stream",
     "text": [
      "\n"
     ]
    }
   ],
   "source": [
    "# Evaluate\n",
    "with torch.no_grad():\n",
    "    correct = 0\n",
    "    total = 0\n",
    "    for i in tqdm(range(len(test_x))):\n",
    "        real = torch.argmax(test_y[i])\n",
    "        output = model(test_x[i].view(-1, 1, input_size, input_size))\n",
    "        predicted = torch.argmax(output)\n",
    "\n",
    "        if predicted == real:\n",
    "            correct += 1\n",
    "        total += 1\n",
    "\n",
    "print(\"Accuracy: \", round(correct/total, 3))"
   ]
  }
 ],
 "metadata": {
  "kernelspec": {
   "display_name": "Python 3",
   "language": "python",
   "name": "python3"
  },
  "language_info": {
   "codemirror_mode": {
    "name": "ipython",
    "version": 3
   },
   "file_extension": ".py",
   "mimetype": "text/x-python",
   "name": "python",
   "nbconvert_exporter": "python",
   "pygments_lexer": "ipython3",
   "version": "3.8.6"
  }
 },
 "nbformat": 4,
 "nbformat_minor": 4
}
