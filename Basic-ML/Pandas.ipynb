{
 "cells": [
  {
   "cell_type": "code",
   "execution_count": 30,
   "metadata": {},
   "outputs": [
    {
     "name": "stdout",
     "output_type": "stream",
     "text": [
      "count    4.000000\n",
      "mean     2.500000\n",
      "std      1.290994\n",
      "min      1.000000\n",
      "25%      1.750000\n",
      "50%      2.500000\n",
      "75%      3.250000\n",
      "max      4.000000\n",
      "dtype: float64 \n",
      "\n",
      "0    1\n",
      "1    2\n",
      "dtype: int64 \n",
      "\n",
      "max 4 \n",
      "\n",
      "std 1.2909944487358056 \n",
      "\n",
      "mean 2.5 \n",
      "\n"
     ]
    }
   ],
   "source": [
    "import pandas as pd\n",
    "a = pd.Series([1,2,3,4])\n",
    "print(a.describe(),'\\n')\n",
    "print(a[:2],'\\n')\n",
    "print('max',a.max(),'\\n')\n",
    "print('std',a.std(),'\\n')\n",
    "print('mean',a.mean(),'\\n')\n"
   ]
  },
  {
   "cell_type": "code",
   "execution_count": 13,
   "metadata": {},
   "outputs": [
    {
     "name": "stdout",
     "output_type": "stream",
     "text": [
      "0    2\n",
      "1    3\n",
      "2    4\n",
      "3    5\n",
      "dtype: int64 \n",
      "\n",
      "0    2\n",
      "1    3\n",
      "2    4\n",
      "3    5\n",
      "dtype: int64 \n",
      "\n",
      "0    2\n",
      "1    4\n",
      "2    6\n",
      "3    8\n",
      "dtype: int64 \n",
      "\n",
      "0    False\n",
      "1    False\n",
      "2     True\n",
      "3     True\n",
      "dtype: bool \n",
      "\n",
      "2    3\n",
      "3    4\n",
      "dtype: int64\n"
     ]
    }
   ],
   "source": [
    "b = pd.Series([1,1,1,1])\n",
    "print(a + b,'\\n')\n",
    "print(a + 1,'\\n')\n",
    "print(a * 2,'\\n')\n",
    "print(a>2,'\\n')\n",
    "print(a[a>2])"
   ]
  },
  {
   "cell_type": "code",
   "execution_count": 25,
   "metadata": {},
   "outputs": [
    {
     "name": "stdout",
     "output_type": "stream",
     "text": [
      "Ind    1\n",
      "Aus    2\n",
      "Eng    3\n",
      "dtype: int64\n",
      "3\n",
      "1\n",
      "2\n",
      "2\n"
     ]
    }
   ],
   "source": [
    "rank = pd.Series([1,2,3], index = ['Ind', 'Aus', 'Eng'])\n",
    "print(rank)\n",
    "print(rank['Eng'])\n",
    "print(rank['Ind'])\n",
    "# Both statements below are same (accessing through index via number index or just index)\n",
    "print(rank.iloc[1])\n",
    "print(rank.loc['Aus'])"
   ]
  },
  {
   "cell_type": "code",
   "execution_count": 39,
   "metadata": {},
   "outputs": [
    {
     "name": "stdout",
     "output_type": "stream",
     "text": [
      "Max WC index is 1\n",
      "Country with max WC is Aus\n"
     ]
    }
   ],
   "source": [
    "WC = pd.Series([2,5,1], index = ['Ind', 'Aus', 'Eng'])\n",
    "print('Max WC index is',WC.values.argmax())\n",
    "print('Country with max WC is',WC.index[WC.values.argmax()])"
   ]
  },
  {
   "cell_type": "code",
   "execution_count": 3,
   "metadata": {},
   "outputs": [
    {
     "name": "stdout",
     "output_type": "stream",
     "text": [
      "a    2\n",
      "b    4\n",
      "c    6\n",
      "d    8\n",
      "dtype: int64 \n",
      "\n",
      "a    5\n",
      "b    5\n",
      "c    4\n",
      "d    6\n",
      "dtype: int64 \n",
      "\n",
      "a    NaN\n",
      "b    4.0\n",
      "c    6.0\n",
      "d    NaN\n",
      "e    NaN\n",
      "f    NaN\n",
      "dtype: float64 \n",
      "\n",
      "b    4.0\n",
      "c    6.0\n",
      "dtype: float64 \n",
      "\n",
      "a    1.0\n",
      "b    4.0\n",
      "c    6.0\n",
      "d    4.0\n",
      "e    1.0\n",
      "f    4.0\n",
      "dtype: float64\n"
     ]
    }
   ],
   "source": [
    "s1 = pd.Series([1,2,3,4], index = ['a','b','c','d'])\n",
    "s2 = pd.Series([1,2,3,4], index = ['a','b','c','d'])\n",
    "result = s1 + s2\n",
    "print(result,'\\n')\n",
    "s1 = pd.Series([1,2,3,4], index = ['a','b','c','d'])\n",
    "s2 = pd.Series([1,2,3,4], index = ['c','d','b','a'])\n",
    "result = s1 + s2\n",
    "print(result,'\\n')\n",
    "s1 = pd.Series([1,2,3,4], index = ['a','b','c','d'])\n",
    "s2 = pd.Series([1,2,3,4], index = ['e','b','c','f'])\n",
    "result = s1 + s2\n",
    "print(result,'\\n')\n",
    "s1 = pd.Series([1,2,3,4], index = ['a','b','c','d'])\n",
    "s2 = pd.Series([1,2,3,4], index = ['e','b','c','f'])\n",
    "result = s1 + s2\n",
    "print(result.dropna(),'\\n')\n",
    "s1 = pd.Series([1,2,3,4], index = ['a','b','c','d'])\n",
    "s2 = pd.Series([1,2,3,4], index = ['e','b','c','f'])\n",
    "result = s1.add(s2,fill_value = 0)\n",
    "print(result)"
   ]
  },
  {
   "cell_type": "code",
   "execution_count": 6,
   "metadata": {},
   "outputs": [
    {
     "name": "stdout",
     "output_type": "stream",
     "text": [
      "1    Ind\n",
      "2    Aus\n",
      "3    Eng\n",
      "dtype: object\n"
     ]
    }
   ],
   "source": [
    "import pandas as pd\n",
    "def make_capital(str):\n",
    "    return str.capitalize()\n",
    "\n",
    "a = pd.Series(['ind','aus','eng'], index = [1,2,3])\n",
    "b = a.apply(make_capital)\n",
    "print(b)"
   ]
  },
  {
   "cell_type": "code",
   "execution_count": 25,
   "metadata": {},
   "outputs": [
    {
     "name": "stdout",
     "output_type": "stream",
     "text": [
      "        Teams  Won  Lost  Points\n",
      "Rohit      MI    9     5      18\n",
      "Shreyas    DC    8     6      16\n",
      "Dhoni     CSK    6     6      12 \n",
      "\n",
      "Won        7.666667\n",
      "Lost       5.666667\n",
      "Points    15.333333\n",
      "dtype: float64 \n",
      "\n",
      "Teams     MI\n",
      "Won        9\n",
      "Lost       6\n",
      "Points    18\n",
      "dtype: object \n",
      "\n",
      "Teams     CSK\n",
      "Won         6\n",
      "Lost        6\n",
      "Points     12\n",
      "Name: Dhoni, dtype: object \n",
      "\n",
      "Teams     DC\n",
      "Won        8\n",
      "Lost       6\n",
      "Points    16\n",
      "Name: Shreyas, dtype: object \n",
      "\n",
      "[['MI' 9 5 18]\n",
      " ['DC' 8 6 16]\n",
      " ['CSK' 6 6 12]] \n",
      "\n",
      "Teams     MIDCCSK\n",
      "Won            23\n",
      "Lost           17\n",
      "Points         46\n",
      "dtype: object \n",
      "\n",
      "Rohit      32\n",
      "Shreyas    30\n",
      "Dhoni      24\n",
      "dtype: int64 \n",
      "\n"
     ]
    }
   ],
   "source": [
    "ipl = pd.DataFrame({\n",
    "    'Teams':['MI','DC','CSK'],\n",
    "    'Won':[9,8,6],\n",
    "    'Lost':[5,6,6],\n",
    "    'Points':[18,16,12]\n",
    "}, index = ['Rohit','Shreyas','Dhoni'])\n",
    "print(ipl,'\\n')\n",
    "print(ipl.mean(),'\\n')\n",
    "print(ipl.max(),'\\n')\n",
    "print(ipl.loc['Dhoni'],'\\n')\n",
    "print(ipl.iloc[1],'\\n')\n",
    "print(ipl.values,'\\n')\n",
    "print(ipl.sum(axis = 0),'\\n')\n",
    "print(ipl.sum(axis = 1),'\\n')"
   ]
  },
  {
   "cell_type": "code",
   "execution_count": 41,
   "metadata": {},
   "outputs": [
    {
     "name": "stdout",
     "output_type": "stream",
     "text": [
      "    a   b   c\n",
      "0  11  44  77\n",
      "1  22  55  88\n",
      "2  33  66  99 \n",
      "\n",
      "    a   b   c   d\n",
      "0 NaN  74  47 NaN\n",
      "1 NaN  85  58 NaN\n",
      "2 NaN  96  69 NaN \n",
      "\n",
      "          a     b     c\n",
      "row-1   NaN   NaN   NaN\n",
      "row-2  32.0  65.0  98.0\n",
      "row-3  23.0  56.0  89.0\n",
      "row-4   NaN   NaN   NaN \n",
      "\n"
     ]
    }
   ],
   "source": [
    "df_1 = pd.DataFrame({ 'a':[1, 2, 3], 'b':[4, 5, 6], 'c':[7, 8, 9] })\n",
    "df_2 = pd.DataFrame({ 'a':[10, 20, 30], 'b':[40, 50, 60], 'c':[70, 80, 90] })\n",
    "result = df_1 + df_2\n",
    "print(result,'\\n')\n",
    "\n",
    "df_1 = pd.DataFrame({ 'a':[1, 2, 3], 'b':[4, 5, 6], 'c':[7, 8, 9] })\n",
    "df_2 = pd.DataFrame({ 'd':[10, 20, 30], 'c':[40, 50, 60], 'b':[70, 80, 90] })\n",
    "result = df_1 + df_2\n",
    "print(result,'\\n')\n",
    "\n",
    "df_1 = pd.DataFrame({ 'a':[1, 2, 3], 'b':[4, 5, 6], 'c':[7, 8, 9] }, index = ['row-1', 'row-2', 'row-3',])\n",
    "df_2 = pd.DataFrame({ 'a':[10, 20, 30], 'b':[40, 50, 60], 'c':[70, 80, 90] }, index = ['row-4', 'row-3', 'row-2',])\n",
    "result = df_1 + df_2\n",
    "print(result,'\\n')"
   ]
  },
  {
   "cell_type": "code",
   "execution_count": 45,
   "metadata": {},
   "outputs": [
    {
     "name": "stdout",
     "output_type": "stream",
     "text": [
      "    a   b   c\n",
      "0  10  40  70\n",
      "1  20  50  80\n",
      "2  30  60  90\n"
     ]
    }
   ],
   "source": [
    "import pandas as pd\n",
    "def mul_10(x):\n",
    "    return x * 10\n",
    "\n",
    "eg = pd.DataFrame({ 'a':[1,2,3], 'b':[4,5,6], 'c':[7,8,9]})\n",
    "print(eg.applymap(mul_10))"
   ]
  }
 ],
 "metadata": {
  "kernelspec": {
   "display_name": "Python 3",
   "language": "python",
   "name": "python3"
  },
  "language_info": {
   "codemirror_mode": {
    "name": "ipython",
    "version": 3
   },
   "file_extension": ".py",
   "mimetype": "text/x-python",
   "name": "python",
   "nbconvert_exporter": "python",
   "pygments_lexer": "ipython3",
   "version": "3.8.3"
  }
 },
 "nbformat": 4,
 "nbformat_minor": 4
}